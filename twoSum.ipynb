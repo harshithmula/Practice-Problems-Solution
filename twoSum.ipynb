{
 "cells": [
  {
   "cell_type": "markdown",
   "id": "96566d2b-11d1-4589-adf4-92400c843fef",
   "metadata": {},
   "source": [
    "#### Problem Description @ https://leetcode.com/problems/two-sum/\n",
    "\n",
    "***This is a naive approach and may fail in some cases***"
   ]
  },
  {
   "cell_type": "code",
   "execution_count": null,
   "id": "b6679547-e212-4d31-a212-073ee16acabc",
   "metadata": {},
   "outputs": [],
   "source": [
    "def twoSum(nums, target):\n",
    "    for i in range(len(nums)-1):\n",
    "        for j in range(i+1,len(nums)):\n",
    "            if nums[i]+nums[j] == target:\n",
    "                return [nums.index(nums[i]),nums.index(nums[j])]"
   ]
  },
  {
   "cell_type": "code",
   "execution_count": null,
   "id": "fdcd8a63-7136-43b0-ae66-7b9a6d16ecb2",
   "metadata": {},
   "outputs": [],
   "source": [
    "input_list = list(map(int,input().split()))\n",
    "input_target = int(input())\n",
    "print(twoSum(input_list, input_target))"
   ]
  }
 ],
 "metadata": {
  "kernelspec": {
   "display_name": "Python 3 (ipykernel)",
   "language": "python",
   "name": "python3"
  },
  "language_info": {
   "codemirror_mode": {
    "name": "ipython",
    "version": 3
   },
   "file_extension": ".py",
   "mimetype": "text/x-python",
   "name": "python",
   "nbconvert_exporter": "python",
   "pygments_lexer": "ipython3",
   "version": "3.10.4"
  }
 },
 "nbformat": 4,
 "nbformat_minor": 5
}
